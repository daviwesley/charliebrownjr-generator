{
  "nbformat": 4,
  "nbformat_minor": 0,
  "metadata": {
    "colab": {
      "name": "markov-chain.ipynb",
      "version": "0.3.2",
      "provenance": []
    },
    "kernelspec": {
      "name": "python3",
      "display_name": "Python 3"
    }
  },
  "cells": [
    {
      "cell_type": "markdown",
      "metadata": {
        "id": "qIBqIZARjLkO",
        "colab_type": "text"
      },
      "source": [
        "**Instala a biblioteca `markovify**"
      ]
    },
    {
      "cell_type": "code",
      "metadata": {
        "id": "JkCA42Nib6Fu",
        "colab_type": "code",
        "colab": {}
      },
      "source": [
        "!pip install markovify"
      ],
      "execution_count": 0,
      "outputs": []
    },
    {
      "cell_type": "code",
      "metadata": {
        "id": "H99bNSs1b9yX",
        "colab_type": "code",
        "colab": {}
      },
      "source": [
        "import markovify"
      ],
      "execution_count": 0,
      "outputs": []
    },
    {
      "cell_type": "markdown",
      "metadata": {
        "id": "dBs0vqXdjWXG",
        "colab_type": "text"
      },
      "source": [
        "**Ler as letras e gera 5 frases**"
      ]
    },
    {
      "cell_type": "code",
      "metadata": {
        "id": "dtL7woBncQLX",
        "colab_type": "code",
        "colab": {
          "base_uri": "https://localhost:8080/",
          "height": 122
        },
        "outputId": "971f9d2c-5d22-45ac-f8cc-6d6f7c066473"
      },
      "source": [
        "with open(\"charliejr.txt\") as f:\n",
        "  text = f.read()\n",
        "  text_model = markovify.Text(text)\n",
        "  \n",
        "  for i in range(5):\n",
        "      print(text_model.make_sentence())"
      ],
      "execution_count": 14,
      "outputs": [
        {
          "output_type": "stream",
          "text": [
            "É difícil pra mim no way Disse que não caio no conto do vigário Eu tenho fé em Deus Pra resolver qualquer parada Chega com respeito na minha quebrada Tamo aí na atividade!\n",
            "Agora sei O quanto é precioso O nosso tempo a gente Meu estilo de vida Liberta minha mente Eu vi o tempo todo mas não nasci otário Eu é que foi seu dia?\n",
            "Mas se é difícil pra você tudo bem Muita gente tem forma, mas não tem nada a dizer Mas eu não sou Daquela láia, não!\n",
            "Me basta que venha do coração Basta que venha do coração Basta que venha do skate!\n",
            "Se não eu, quem vai fazer você feliz Vejo as pessoas e sei que vai ser, onde vou te dar um esculacho Sua atitude é de mosca de bar Você deixou ela de lado para falar com seus passos\n"
          ],
          "name": "stdout"
        }
      ]
    }
  ]
}